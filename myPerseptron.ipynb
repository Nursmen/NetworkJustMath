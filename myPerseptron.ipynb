{
 "cells": [
  {
   "cell_type": "code",
   "execution_count": 10,
   "metadata": {},
   "outputs": [],
   "source": [
    "import numpy as np\n",
    "\n",
    "np.random.seed(0)\n",
    "\n",
    "x = np.array([[0, 0], [0, 1], [1, 0], [1, 1]])\n",
    "y = np.array([[0], [1], [1], [0]])"
   ]
  },
  {
   "attachments": {},
   "cell_type": "markdown",
   "metadata": {},
   "source": [
    "```\n",
    "     Input Layer (2 neurons)\n",
    "            ||\n",
    "            \\/\n",
    "     Hidden Layer (3 neurons)\n",
    "            ||\n",
    "            \\/\n",
    "     Output Layer (1 neuron)\n",
    "```"
   ]
  },
  {
   "cell_type": "code",
   "execution_count": 11,
   "metadata": {},
   "outputs": [
    {
     "name": "stdout",
     "output_type": "stream",
     "text": [
      "[[0.97873798 1.37889519 2.74279033 3.14294754]]\n"
     ]
    }
   ],
   "source": [
    "W = np.random.randn(1, 2)\n",
    "b = np.random.randn(1, 1)\n",
    "\n",
    "print(np.dot(W,x.T)+b)"
   ]
  },
  {
   "cell_type": "code",
   "execution_count": 12,
   "metadata": {},
   "outputs": [
    {
     "name": "stdout",
     "output_type": "stream",
     "text": [
      "[[ 0.          1.86755799  2.2408932   4.10845119]\n",
      " [ 0.          0.95008842 -0.97727788 -0.02718946]\n",
      " [ 0.         -0.10321885 -0.15135721 -0.25457606]]\n",
      "\n",
      "[[0.         0.7535622  0.55922202 1.31278422]]\n"
     ]
    }
   ],
   "source": [
    "W1 = np.random.randn(3, 2)\n",
    "b1 = np.zeros((3,1))\n",
    "W2 = np.random.randn(1, 3)\n",
    "b2 = np.zeros((1,1))\n",
    "\n",
    "print(np.dot(W1,x.T)+b1)\n",
    "print()\n",
    "print(np.dot(W2,np.dot(W1,x.T)+b1)+b2)"
   ]
  },
  {
   "cell_type": "code",
   "execution_count": 13,
   "metadata": {},
   "outputs": [],
   "source": [
    "def relu(x): return np.maximum(0, x)"
   ]
  },
  {
   "cell_type": "code",
   "execution_count": 14,
   "metadata": {},
   "outputs": [],
   "source": [
    "def sigmoid(x):\n",
    "    return 1 / (1 + np.exp(-x))"
   ]
  },
  {
   "cell_type": "code",
   "execution_count": 15,
   "metadata": {},
   "outputs": [
    {
     "name": "stdout",
     "output_type": "stream",
     "text": [
      "[[0.5        0.71170324 0.71506399 0.84381919]]\n"
     ]
    }
   ],
   "source": [
    "Z1 = np.dot(W1,x.T)\n",
    "A1 = relu(Z1)\n",
    "Z2 = np.dot(W2,A1)+b2\n",
    "A2 = sigmoid(Z2)\n",
    "\n",
    "print(A2)"
   ]
  },
  {
   "cell_type": "code",
   "execution_count": 16,
   "metadata": {},
   "outputs": [],
   "source": [
    "def bceloss(y_hat, y): \n",
    "    y_hat = np.clip(y_hat, 1e-8, 1 - 1e-8)\n",
    "    y = y.T\n",
    "    return -np.sum(y * np.log(y_hat) + (1 - y) * np.log(1 - y_hat)) / y.shape[0]"
   ]
  },
  {
   "cell_type": "code",
   "execution_count": 17,
   "metadata": {},
   "outputs": [
    {
     "data": {
      "text/plain": [
       "3.2253656216592548"
      ]
     },
     "execution_count": 17,
     "metadata": {},
     "output_type": "execute_result"
    }
   ],
   "source": [
    "loss = bceloss(A2, y)\n",
    "loss"
   ]
  },
  {
   "attachments": {},
   "cell_type": "markdown",
   "metadata": {},
   "source": [
    "<img src='Дизайн без названия.png' />"
   ]
  },
  {
   "cell_type": "code",
   "execution_count": 18,
   "metadata": {},
   "outputs": [
    {
     "name": "stdout",
     "output_type": "stream",
     "text": [
      "[[ 0.05736915  0.05702417]\n",
      " [ 0.         -0.01038182]\n",
      " [ 0.          0.        ]]\n",
      "\n",
      "[[ 0.02777559]\n",
      " [-0.01038182]\n",
      " [ 0.        ]]\n"
     ]
    }
   ],
   "source": [
    "m=y.shape[0]\n",
    "\n",
    "dA2 = -(y.T/A2) + ((1-y.T)/(1-A2))\n",
    "dZ2 = dA2 * (A2 * (1-A2))\n",
    "dW2 = (1/m) * np.dot(dZ2, A1.T)\n",
    "db2 = (1/m) * np.sum(dZ2, axis=1, keepdims=True)\n",
    "dA1 = np.dot(W2.T, dZ2)\n",
    "dZ1 = dA1 * np.where(A1 > 0, 1, 0)\n",
    "# dZ1[dZ1 <= 0] = 1e-8\n",
    "dW1 = (1/m) * np.dot(dZ1, x)\n",
    "db1 = (1/m) * np.sum(dZ1, axis=1, keepdims=True)\n",
    "\n",
    "print(dW1)\n",
    "print()\n",
    "print(db1)"
   ]
  },
  {
   "cell_type": "code",
   "execution_count": 19,
   "metadata": {},
   "outputs": [
    {
     "data": {
      "text/plain": [
       "(array([[ 0.57246697, -0.06847685,  0.        ]]),\n",
       " array([[0.4105985 , 0.14404357, 1.45427351]]))"
      ]
     },
     "execution_count": 19,
     "metadata": {},
     "output_type": "execute_result"
    }
   ],
   "source": [
    "dW2, W2"
   ]
  },
  {
   "cell_type": "code",
   "execution_count": 20,
   "metadata": {},
   "outputs": [
    {
     "name": "stdout",
     "output_type": "stream",
     "text": [
      "[[0.         0.7535622  0.55922202 1.31278422]]\n",
      "[[0 1 1 0]]\n",
      "\n",
      "[[-0.09712501  0.15178863 -0.21634948  0.03256416]]\n"
     ]
    }
   ],
   "source": [
    "learning_rate = 0.5\n",
    "\n",
    "print(np.dot(W2,np.dot(W1,x.T)+b1)+b2)\n",
    "\n",
    "W1 = W1 - learning_rate * dW1\n",
    "b1 = b1 - learning_rate * db1\n",
    "W2 = W2 - learning_rate * dW2\n",
    "b2 = b2 - learning_rate * db2\n",
    "\n",
    "print(y.T)\n",
    "print()\n",
    "print(np.dot(W2,np.dot(W1,x.T)+b1)+b2)"
   ]
  },
  {
   "cell_type": "code",
   "execution_count": 21,
   "metadata": {},
   "outputs": [
    {
     "name": "stdout",
     "output_type": "stream",
     "text": [
      "[[-0.26970974 -0.99641848 -1.71051536 -2.4372241 ]]\n",
      "1.0\n",
      "[[-0.37346062 -2.03910763 -3.09937423 -4.76502124]]\n",
      "0.9995\n",
      "[[-0.27333926 -2.77494719 -4.1824053  -6.68401322]]\n",
      "0.999\n",
      "[[ 0.17075003 -2.99338294 -4.7498757  -7.91400867]]\n",
      "0.9985\n",
      "[[ 1.09848148 -2.4844941  -4.59268353 -8.17565911]]\n",
      "0.998\n",
      "[[ 2.64910841 -1.03899247 -3.50235702 -7.1904579 ]]\n",
      "0.9975\n",
      "[[ 4.96146375  1.55177829 -1.27105375 -4.68073921]]\n",
      "0.997\n",
      "[[ 8.17396054  5.49584351  2.30844009 -0.36967694]]\n",
      "0.9965\n",
      "[[12.4245925  11.00059827  7.44271057  6.01871635]]\n",
      "0.996\n",
      "[[17.85093452 18.27280821 14.33771675 14.75959044]]\n",
      "0.9955\n"
     ]
    }
   ],
   "source": [
    "for i in range(10):\n",
    "    m=y.shape[0]\n",
    "\n",
    "    dA2 = -(y.T/A2) + ((1-y.T)/(1-A2))\n",
    "    dZ2 = dA2 * (A2 * (1-A2))\n",
    "    dW2 = (1/m) * np.dot(dZ2, A1.T)\n",
    "    db2 = (1/m) * np.sum(dZ2, axis=1, keepdims=True)\n",
    "    dA1 = np.dot(W2.T, dZ2)\n",
    "    dZ1 = dA1 * np.where(Z1 > 0, 1, 0)\n",
    "    dZ1[dZ1 <= 0] = 1e-8\n",
    "    dW1 = (1/m) * np.dot(dZ1, x)\n",
    "    db1 = (1/m) * np.sum(dZ1, axis=1, keepdims=True)\n",
    "\n",
    "    learning_rate = 1 - i/2000\n",
    "\n",
    "    W1 = W1 - learning_rate * dW1\n",
    "    b1 = b1 - learning_rate * db1\n",
    "    W2 = W2 - learning_rate * dW2\n",
    "    b2 = b2 - learning_rate * db2\n",
    "\n",
    "    if i % 1 == 0:\n",
    "        print(np.dot(W2,np.dot(W1,x.T)+b1)+b2)\n",
    "\n",
    "        print(learning_rate)"
   ]
  },
  {
   "cell_type": "code",
   "execution_count": 22,
   "metadata": {},
   "outputs": [
    {
     "data": {
      "text/plain": [
       "-5.504754759999999"
      ]
     },
     "execution_count": 22,
     "metadata": {},
     "output_type": "execute_result"
    }
   ],
   "source": [
    "5.49584351  - 11.00059827  "
   ]
  },
  {
   "cell_type": "code",
   "execution_count": 23,
   "metadata": {},
   "outputs": [],
   "source": [
    "class NursikJunior:\n",
    "    def __init__(self, units, learning_rate=1):\n",
    "        self.learning_rate = learning_rate\n",
    "\n",
    "        self.W = []\n",
    "        self.b = []\n",
    "\n",
    "        for i in range(len(units)-1):\n",
    "            self.W.append(np.random.randn(units[i+1], units[i]) * 0.01)\n",
    "            self.b.append(np.zeros((units[i+1], 1)))\n",
    "\n",
    "        self.A = []\n",
    "        self.Z = []\n",
    "        \n",
    "\n",
    "    def sigmoid(self, x):\n",
    "        return (1 / (1 + np.exp(-x)))\n",
    "\n",
    "    def relu(self, x):\n",
    "        return np.maximum(0, x)\n",
    "\n",
    "    def forward(self, x):\n",
    "        self.A = []\n",
    "        self.Z = []\n",
    "        \n",
    "        Z_last = x.T\n",
    "        self.A.append(Z_last)\n",
    "\n",
    "        # print('forward: ',self.W)\n",
    "        for i in range(len(self.W)):\n",
    "            Z = np.dot(self.W[i], Z_last) + self.b[i]\n",
    "            self.Z.append(Z)\n",
    "            A = self.relu(Z) if i < len(self.W) - 1 else self.sigmoid(Z)\n",
    "            self.A.append(A)\n",
    "            Z_last = A\n",
    "            \n",
    "        return self.A[-1]\n",
    "    \n",
    "    def backward(self, y):\n",
    "\n",
    "        # print('backfard: ',self.W)\n",
    "        for i in range(len(self.W)-1, -1, -1):\n",
    "            if i == len(self.W) - 1:\n",
    "                dA = -(1/y.shape[0]) * (y.T/self.A[i+1] - (1-y).T/(1-self.A[i+1]))\n",
    "                dZ = dA * self.A[i+1] * (1 - self.A[i+1])\n",
    "            else:\n",
    "                dA = np.dot(self.W[i+1].T, dZ)\n",
    "                dZ = dA*np.where(self.Z[i] > 0, 1, 0)\n",
    "            dW = (1/y.shape[0]) * np.dot(dZ, self.A[i].T)\n",
    "            db = (1/y.shape[0]) * np.sum(dZ, axis=1, keepdims=True)\n",
    "\n",
    "            self.W[i] = self.W[i] - self.learning_rate * dW\n",
    "            self.b[i] = self.b[i] - self.learning_rate * db\n",
    "\n",
    "        # print(self.W)\n",
    "    def predict(self, x):\n",
    "        return self.forward(x) > 0.5\n",
    "\n",
    "    def loss(self, y_hat, y):\n",
    "        y_hat = np.clip(y_hat, 1e-8, 1 - 1e-8)\n",
    "        y =y.T\n",
    "        return -(1/y.shape[0]) * np.sum(y*np.log(y_hat) + (1-y)*np.log(1-y_hat))"
   ]
  },
  {
   "cell_type": "code",
   "execution_count": 24,
   "metadata": {},
   "outputs": [],
   "source": [
    "units = [2,5,1]"
   ]
  },
  {
   "cell_type": "code",
   "execution_count": 25,
   "metadata": {},
   "outputs": [
    {
     "name": "stdout",
     "output_type": "stream",
     "text": [
      "2.7725867350465347\n",
      "0.03656073104231354\n",
      "0.014376700504454436\n",
      "0.008818334793970045\n",
      "0.006325458056069965\n",
      "0.004917483708122243\n",
      "0.0040154850520059526\n",
      "0.0033898194550330127\n",
      "0.0029301595246361955\n",
      "0.0025790199377720814\n",
      "[[1.76429539e-03 9.99839558e-01 9.99841087e-01 2.16960474e-04]]\n"
     ]
    }
   ],
   "source": [
    "NJ = NursikJunior(units, 1)\n",
    "for i in range(10000):\n",
    "\n",
    "    NJ.forward(x)\n",
    "    # print(NJ.A[-1])\n",
    "\n",
    "    NJ.backward(y)\n",
    "    if i % 1000 == 0:\n",
    "\n",
    "        print(NJ.loss(NJ.A[-1], y))\n",
    "        # if np.round(NJ.A[-1][0][0],3) == 0.5 and np.round(NJ.A[-1][0][1],3) == 0.5:\n",
    "        #     break\n",
    "\n",
    "\n",
    "print(NJ.A[-1])\n"
   ]
  },
  {
   "cell_type": "code",
   "execution_count": 26,
   "metadata": {},
   "outputs": [
    {
     "name": "stdout",
     "output_type": "stream",
     "text": [
      "2.772588382759546\n",
      "[[0.5        0.49999989 0.50000017 0.49999989]]\n",
      "\n",
      "2.772588724361783\n",
      "[[0.50000013 0.49999959 0.50000041 0.49999987]]\n",
      "\n",
      "2.7725887222405072\n",
      "[[0.50000013 0.49999959 0.50000041 0.49999987]]\n",
      "\n",
      "2.7725887222405072\n",
      "[[0.50000013 0.49999959 0.50000041 0.49999987]]\n",
      "\n",
      "2.7725887222405072\n",
      "[[0.50000013 0.49999959 0.50000041 0.49999987]]\n",
      "\n",
      "2.7725887222405072\n",
      "[[0.50000013 0.49999959 0.50000041 0.49999987]]\n",
      "\n",
      "2.7725887222405072\n",
      "[[0.50000013 0.49999959 0.50000041 0.49999987]]\n",
      "\n",
      "2.7725887222405072\n",
      "[[0.50000013 0.49999959 0.50000041 0.49999987]]\n",
      "\n",
      "2.7725887222405072\n",
      "[[0.50000013 0.49999959 0.50000041 0.49999987]]\n",
      "\n",
      "2.7725887222405077\n",
      "[[0.50000013 0.49999959 0.50000041 0.49999987]]\n",
      "\n"
     ]
    }
   ],
   "source": [
    "W1 = np.random.randn(3, 2)* 0.01\n",
    "b1 = np.zeros((3,1))\n",
    "W2 = np.random.randn(5, 3)* 0.01\n",
    "b2 = np.zeros((5,1))\n",
    "W3 = np.random.randn(1, 5)* 0.01\n",
    "b3 = np.zeros((1,1))\n",
    "\n",
    "learning_rate = 1\n",
    "\n",
    "\n",
    "for i in range(10000):\n",
    "    \n",
    "\n",
    "    Z1 = np.dot(W1,x.T)+b1\n",
    "    A1 = relu(Z1)\n",
    "    Z2 = np.dot(W2,A1)+b2\n",
    "    A2 = relu(Z2)\n",
    "    Z3 = np.dot(W3,A2)+b3\n",
    "\n",
    "    \n",
    "    try: A3 = sigmoid(Z3)\n",
    "    except: print(i);break\n",
    "\n",
    "    loss = bceloss(A3, y)\n",
    "    if i % 1000 == 0:\n",
    "        print(loss)\n",
    "        print(A3)\n",
    "        print()\n",
    "\n",
    "    dA3 = - ( y.T/A3) + (1-y.T)/(1-A3)\n",
    "    dZ3 = dA3 * A3 * (1-A3)\n",
    "    dW3 = (1/y.shape[0]) * np.dot(dZ3, A2.T)\n",
    "    db3 = (1/y.shape[0]) * np.sum(dZ3, axis=1, keepdims=True)\n",
    "    dA2 = np.dot(W3.T, dZ3)\n",
    "    dZ2 = dA2 * np.where(Z2 > 0, 1, 0)\n",
    "    # dZ2[dZ2 <= 0] = 1e-8\n",
    "    dW2 = (1/y.shape[0]) * np.dot(dZ2, A1.T)\n",
    "    db2 = (1/y.shape[0]) * np.sum(dZ2, axis=1, keepdims=True)\n",
    "    dA1 = np.dot(W2.T, dZ2)\n",
    "    dZ1 = dA1 * np.where(Z1 > 0, 1, 0)\n",
    "    # dZ1[dZ1 <= 0] = 1e-8\n",
    "    dW1 = (1/y.shape[0]) * np.dot(dZ1, x)\n",
    "    db1 = (1/y.shape[0]) * np.sum(dZ1, axis=1, keepdims=True)\n",
    "\n",
    "    W1 = W1 - learning_rate * dW1\n",
    "    b1 = b1 - learning_rate * db1\n",
    "    W2 = W2 - learning_rate * dW2\n",
    "    b2 = b2 - learning_rate * db2\n",
    "    W3 = W3 - learning_rate * dW3\n",
    "    b3 = b3 - learning_rate * db3\n",
    "\n",
    "    if A3[0][0] == 0.5 and A3[0][1] == 0.5:\n",
    "        break"
   ]
  },
  {
   "cell_type": "code",
   "execution_count": 27,
   "metadata": {},
   "outputs": [],
   "source": [
    "import pandas as pd\n",
    "\n",
    "titanik = pd.read_csv('Titanic-Dataset.csv')\n",
    "\n",
    "titanik.fillna(0, inplace=True)\n",
    "\n",
    "titanik.drop(['Ticket', 'Name', 'Cabin', 'PassengerId'], axis=1, inplace=True)"
   ]
  },
  {
   "cell_type": "code",
   "execution_count": 53,
   "metadata": {},
   "outputs": [],
   "source": [
    "titanik = pd.get_dummies(titanik, drop_first=True)\n",
    "x = titanik.drop(['Survived'], axis=1).to_numpy()\n",
    "y = titanik['Survived'].to_numpy()\n",
    "y = y.reshape(y.shape[0],1)"
   ]
  },
  {
   "cell_type": "code",
   "execution_count": 54,
   "metadata": {},
   "outputs": [
    {
     "data": {
      "text/plain": [
       "array([[3, 22.0, 1, 0, 7.25, True, False, False, True],\n",
       "       [1, 38.0, 1, 0, 71.2833, False, True, False, False],\n",
       "       [3, 26.0, 0, 0, 7.925, False, False, False, True]], dtype=object)"
      ]
     },
     "execution_count": 54,
     "metadata": {},
     "output_type": "execute_result"
    }
   ],
   "source": [
    "x[:3]"
   ]
  },
  {
   "cell_type": "code",
   "execution_count": 55,
   "metadata": {},
   "outputs": [
    {
     "data": {
      "text/plain": [
       "array([[0],\n",
       "       [1],\n",
       "       [1]], dtype=int64)"
      ]
     },
     "execution_count": 55,
     "metadata": {},
     "output_type": "execute_result"
    }
   ],
   "source": [
    "y[:3]"
   ]
  },
  {
   "cell_type": "code",
   "execution_count": 56,
   "metadata": {},
   "outputs": [
    {
     "data": {
      "text/plain": [
       "(891, 9)"
      ]
     },
     "execution_count": 56,
     "metadata": {},
     "output_type": "execute_result"
    }
   ],
   "source": [
    "x.shape"
   ]
  },
  {
   "cell_type": "code",
   "execution_count": 57,
   "metadata": {},
   "outputs": [
    {
     "data": {
      "text/plain": [
       "array([  73.28710664,  883.30712354,   36.41428291,   26.60826939,\n",
       "       1766.87993463,   24.0208243 ,   12.9614814 ,    8.77496439,\n",
       "         25.37715508])"
      ]
     },
     "execution_count": 57,
     "metadata": {},
     "output_type": "execute_result"
    }
   ],
   "source": [
    "np.linalg.norm(np.float64(x), axis=0)"
   ]
  },
  {
   "cell_type": "code",
   "execution_count": 71,
   "metadata": {},
   "outputs": [],
   "source": [
    "# x = x/np.linalg.norm(np.float64(x), axis=0)\n",
    "x = np.int64(x)"
   ]
  },
  {
   "cell_type": "code",
   "execution_count": 97,
   "metadata": {},
   "outputs": [
    {
     "name": "stdout",
     "output_type": "stream",
     "text": [
      "617.5997736850736\n",
      "607.2651948800873\n",
      "601.3587506085407\n",
      "597.9702538078614\n",
      "596.0173937277975\n",
      "594.8861660327154\n",
      "594.2264204526637\n",
      "593.8365572155094\n",
      "593.5984090204005\n",
      "593.4386954630638\n",
      "593.3024634831564\n",
      "593.1205142098487\n",
      "592.7209809220371\n",
      "591.2861331577458\n",
      "583.2905437959403\n",
      "568.4261173393543\n",
      "564.5111644441212\n",
      "562.5358340742661\n",
      "561.0773061598694\n",
      "559.9224451436509\n",
      "558.9886493796042\n",
      "558.1900915028441\n",
      "557.4681336956705\n",
      "556.7777855559046\n",
      "556.0787280453869\n",
      "555.3405939781323\n",
      "554.5324286361424\n",
      "553.6236417444401\n",
      "552.5819996275256\n",
      "551.3840476347768\n",
      "550.0179998400067\n",
      "548.5049686303091\n",
      "546.8805487446705\n",
      "545.2359279615998\n",
      "543.7239862616423\n",
      "542.3521591416953\n",
      "541.1614050358977\n",
      "540.1757430587627\n",
      "539.3722662924089\n",
      "538.6570185166838\n",
      "538.024155373764\n",
      "537.3930180005736\n",
      "536.7184839998531\n",
      "535.9851224914646\n",
      "535.1608624419289\n",
      "534.2435081269728\n",
      "533.2011709597202\n",
      "531.9737669410554\n",
      "530.5729573882213\n",
      "528.9889790608729\n",
      "527.237426426161\n",
      "525.1094430206583\n",
      "522.7636269675843\n",
      "520.0007495879263\n",
      "516.5920807394923\n",
      "512.409836339268\n",
      "506.6801261672199\n",
      "500.0871945333612\n",
      "492.22648333240664\n",
      "482.77002800022996\n",
      "472.39254619943983\n",
      "461.6954283729649\n",
      "451.21486415781544\n",
      "441.6916565854859\n",
      "433.6316459934907\n",
      "427.12426718966805\n",
      "422.0086543600421\n",
      "417.82237530936936\n",
      "413.2352785600313\n",
      "410.2106627541724\n",
      "407.8759312266208\n",
      "410.43780689477364\n",
      "412.09786502084546\n",
      "413.17987826335013\n",
      "413.9709994332243\n",
      "413.863537806944\n",
      "413.5808687302497\n",
      "413.14663422630156\n",
      "412.0360695000847\n",
      "412.54837152734655\n",
      "411.36914244340306\n",
      "410.68210242176315\n",
      "409.7150120009925\n",
      "409.1612115400952\n",
      "408.51241564702065\n",
      "407.05968743011067\n",
      "405.0806048787802\n",
      "405.703699039032\n",
      "405.67692209262805\n",
      "405.2435500058379\n",
      "405.20749944218915\n",
      "404.75834234690797\n",
      "404.37136576608856\n",
      "397.79280117177865\n",
      "396.6225666938003\n",
      "397.13944541938986\n",
      "396.1369732546897\n",
      "396.1671187985263\n",
      "394.77017058801425\n",
      "394.1845922451075\n"
     ]
    }
   ],
   "source": [
    "units = [9,25,5,1]\n",
    "\n",
    "NJ = NursikJunior(units, 1)\n",
    "\n",
    "for i in range(100000):\n",
    "\n",
    "    NJ.forward(x)\n",
    "    # print(NJ.A[-1])\n",
    "\n",
    "    NJ.backward(y)\n",
    "    if i % 1000 == 0:\n",
    "\n",
    "        print(NJ.loss(NJ.A[-1], y))\n",
    "        # if np.round(NJ.A[-1][0][0],3) == 0.5 and np.round(NJ.A[-1][0][1],3) == 0.5:\n",
    "        #     break"
   ]
  },
  {
   "cell_type": "code",
   "execution_count": 119,
   "metadata": {},
   "outputs": [
    {
     "data": {
      "text/plain": [
       "0.7800224466891134"
      ]
     },
     "execution_count": 119,
     "metadata": {},
     "output_type": "execute_result"
    }
   ],
   "source": [
    "prediction = NJ.predict(x)\n",
    "np.sum(prediction.reshape(891,1)==y)/y.shape[0]"
   ]
  }
 ],
 "metadata": {
  "kernelspec": {
   "display_name": "pytorchenv",
   "language": "python",
   "name": "python3"
  },
  "language_info": {
   "codemirror_mode": {
    "name": "ipython",
    "version": 3
   },
   "file_extension": ".py",
   "mimetype": "text/x-python",
   "name": "python",
   "nbconvert_exporter": "python",
   "pygments_lexer": "ipython3",
   "version": "3.12.3"
  },
  "orig_nbformat": 4,
  "vscode": {
   "interpreter": {
    "hash": "13d23e047223dc84a1102dc5c766dcad7992afc98d26331706d77d9a7e59ca18"
   }
  }
 },
 "nbformat": 4,
 "nbformat_minor": 2
}
